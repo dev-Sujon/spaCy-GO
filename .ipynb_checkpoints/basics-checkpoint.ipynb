{
 "cells": [
  {
   "cell_type": "markdown",
   "id": "974de014-c29a-4310-aab1-6e70d767595e",
   "metadata": {},
   "source": [
    "### What's scaCy?\n",
    "\n",
    "`spaCy is a free,open-source library for advanced Natural Language Programming(NLP) in python`\n",
    "\n",
    "spaCy is designed specifically for production use and helps you build applications that process and \"understand\" large values of text.It can be used to build information extraction or natural language understanding systensm or to pre-processing text for deep learning.\n",
    "\n",
    "\n",
    "spaCy is not a platform or an API software as a service or a web application.Its an opens-source library designed to help to build NLP applications, not a consumable service "
   ]
  },
  {
   "cell_type": "code",
   "execution_count": null,
   "id": "f9d0ab27-a441-4baa-82f4-4172f3d042a2",
   "metadata": {},
   "outputs": [],
   "source": []
  }
 ],
 "metadata": {
  "kernelspec": {
   "display_name": "Python 3 (ipykernel)",
   "language": "python",
   "name": "python3"
  },
  "language_info": {
   "codemirror_mode": {
    "name": "ipython",
    "version": 3
   },
   "file_extension": ".py",
   "mimetype": "text/x-python",
   "name": "python",
   "nbconvert_exporter": "python",
   "pygments_lexer": "ipython3",
   "version": "3.11.4"
  }
 },
 "nbformat": 4,
 "nbformat_minor": 5
}
